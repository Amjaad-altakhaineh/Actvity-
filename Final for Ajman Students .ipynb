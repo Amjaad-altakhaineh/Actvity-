{
 "cells": [
  {
   "cell_type": "markdown",
   "metadata": {},
   "source": [
    "\n",
    "# Economic Activities Dataset\n",
    "\n",
    "\n",
    "# In this lab you will:\n",
    "1. Load and inspect the data  \n",
    "2. Perform exploratory data analysis (EDA)  \n",
    "3. Create visualizations  \n",
    "4. Build and evaluate a predictive model  \n",
    "#\n",
    "# Dataset columns:\n",
    "- `النشاط الاقتصادي` (Economic Activity)  \n",
    "- `متوسط الإيرادات (دينار)` (Avg. Revenue in JD)  \n",
    "- `عدد المنشآت الاقتصادية` (Number of Establishments)  \n",
    "- `مستوى النشاط` (Activity Level: منخفض/متوسط/مرتفع)  \n",
    "- `السنة` (Year)  \n",
    "- `الربع` (Quarter)  \n",
    "- `مدعومة حكوميًا؟` (Gov’t Supported? yes/no)  \n",
    "- `احتمال الإغلاق` (Closure Flag: 1 = likely to close, 0 = likely to remain open)  \n",
    "\n",
    "- Save the Excel file as `economic_data.xlsx` in your working directory.\n",
    "\n"
   ]
  },
  {
   "cell_type": "code",
   "execution_count": 1,
   "metadata": {},
   "outputs": [],
   "source": [
    "# 1. Setup: imports\n",
    "import pandas as pd\n",
    "import numpy as np\n",
    "import matplotlib.pyplot as plt\n",
    "import seaborn as sns\n",
    "from sklearn.model_selection import train_test_split\n",
    "from sklearn.preprocessing import LabelEncoder, StandardScaler\n",
    "from sklearn.ensemble import RandomForestClassifier\n",
    "from sklearn.metrics import classification_report, confusion_matrix"
   ]
  },
  {
   "cell_type": "code",
   "execution_count": 2,
   "metadata": {},
   "outputs": [
    {
     "name": "stdout",
     "output_type": "stream",
     "text": [
      "Shape: (288, 8)\n"
     ]
    },
    {
     "data": {
      "application/vnd.microsoft.datawrangler.viewer.v0+json": {
       "columns": [
        {
         "name": "index",
         "rawType": "int64",
         "type": "integer"
        },
        {
         "name": "النشاط الاقتصادي",
         "rawType": "object",
         "type": "string"
        },
        {
         "name": "متوسط الإيرادات (دينار)",
         "rawType": "int64",
         "type": "integer"
        },
        {
         "name": "عدد المنشآت الاقتصادية",
         "rawType": "int64",
         "type": "integer"
        },
        {
         "name": "مستوى النشاط",
         "rawType": "object",
         "type": "string"
        },
        {
         "name": "السنة",
         "rawType": "int64",
         "type": "integer"
        },
        {
         "name": "الربع",
         "rawType": "int64",
         "type": "integer"
        },
        {
         "name": "مدعومة حكوميًا؟",
         "rawType": "object",
         "type": "string"
        },
        {
         "name": "احتمال الإغلاق",
         "rawType": "int64",
         "type": "integer"
        }
       ],
       "conversionMethod": "pd.DataFrame",
       "ref": "0abb9040-3cd2-4924-a423-197362f8d7cf",
       "rows": [
        [
         "0",
         "التعدين واستغلال المحاجر",
         "32220",
         "665",
         "منخفض",
         "2017",
         "4",
         "لا",
         "1"
        ],
        [
         "1",
         "الصناعة التحويلية",
         "45686",
         "108045",
         "منخفض",
         "2017",
         "4",
         "لا",
         "1"
        ],
        [
         "2",
         "الصناعة التحويلية",
         "12963",
         "108045",
         "منخفض",
         "2017",
         "4",
         "لا",
         "1"
        ],
        [
         "3",
         "التعليم",
         "42671",
         "9298",
         "منخفض",
         "2017",
         "4",
         "لا",
         "1"
        ],
        [
         "4",
         "الأنشطة المهنية والعلمية والتقنية",
         "29713",
         "12643",
         "منخفض",
         "2017",
         "4",
         "لا",
         "1"
        ],
        [
         "5",
         "الأنشطة المهنية والعلمية والتقنية",
         "27312",
         "12643",
         "منخفض",
         "2017",
         "4",
         "لا",
         "1"
        ],
        [
         "6",
         "التعدين واستغلال المحاجر",
         "26998",
         "665",
         "منخفض",
         "2017",
         "4",
         "نعم",
         "1"
        ],
        [
         "7",
         "النقل والتخزين",
         "10200",
         "16631",
         "منخفض",
         "2017",
         "4",
         "لا",
         "1"
        ],
        [
         "8",
         "النقل والتخزين",
         "43726",
         "16631",
         "منخفض",
         "2017",
         "4",
         "لا",
         "1"
        ],
        [
         "9",
         "الأنشطة الإدارية وخدمات الدعم",
         "16401",
         "21346",
         "منخفض",
         "2017",
         "4",
         "نعم",
         "1"
        ],
        [
         "10",
         "الأنشطة المالية وأنشطة التأمين",
         "42733",
         "6589",
         "منخفض",
         "2017",
         "4",
         "لا",
         "1"
        ],
        [
         "11",
         "الأنشطة الإدارية وخدمات الدعم",
         "17691",
         "21346",
         "منخفض",
         "2017",
         "4",
         "لا",
         "1"
        ],
        [
         "12",
         "الإقامة وخدمات الطعام",
         "47439",
         "103214",
         "منخفض",
         "2017",
         "4",
         "لا",
         "1"
        ],
        [
         "13",
         "البناء والتشييد",
         "15781",
         "33926",
         "منخفض",
         "2017",
         "4",
         "نعم",
         "1"
        ],
        [
         "14",
         "البناء والتشييد",
         "15266",
         "33926",
         "منخفض",
         "2017",
         "4",
         "لا",
         "1"
        ],
        [
         "15",
         "الأنشطة العقارية",
         "44537",
         "34603",
         "منخفض",
         "2017",
         "4",
         "لا",
         "1"
        ],
        [
         "16",
         "الأنشطة العقارية",
         "36852",
         "34603",
         "منخفض",
         "2017",
         "4",
         "لا",
         "1"
        ],
        [
         "17",
         "الزراعة والحراجة وصيد الأسماك",
         "31484",
         "89702",
         "منخفض",
         "2017",
         "4",
         "لا",
         "1"
        ],
        [
         "18",
         "الزراعة والحراجة وصيد الأسماك",
         "47946",
         "89702",
         "منخفض",
         "2017",
         "4",
         "نعم",
         "1"
        ],
        [
         "19",
         "أنشطة خدماتية أخرى",
         "13863",
         "78792",
         "منخفض",
         "2017",
         "4",
         "لا",
         "1"
        ]
       ],
       "shape": {
        "columns": 8,
        "rows": 20
       }
      },
      "text/html": [
       "<div>\n",
       "<style scoped>\n",
       "    .dataframe tbody tr th:only-of-type {\n",
       "        vertical-align: middle;\n",
       "    }\n",
       "\n",
       "    .dataframe tbody tr th {\n",
       "        vertical-align: top;\n",
       "    }\n",
       "\n",
       "    .dataframe thead th {\n",
       "        text-align: right;\n",
       "    }\n",
       "</style>\n",
       "<table border=\"1\" class=\"dataframe\">\n",
       "  <thead>\n",
       "    <tr style=\"text-align: right;\">\n",
       "      <th></th>\n",
       "      <th>النشاط الاقتصادي</th>\n",
       "      <th>متوسط الإيرادات (دينار)</th>\n",
       "      <th>عدد المنشآت الاقتصادية</th>\n",
       "      <th>مستوى النشاط</th>\n",
       "      <th>السنة</th>\n",
       "      <th>الربع</th>\n",
       "      <th>مدعومة حكوميًا؟</th>\n",
       "      <th>احتمال الإغلاق</th>\n",
       "    </tr>\n",
       "  </thead>\n",
       "  <tbody>\n",
       "    <tr>\n",
       "      <th>0</th>\n",
       "      <td>التعدين واستغلال المحاجر</td>\n",
       "      <td>32220</td>\n",
       "      <td>665</td>\n",
       "      <td>منخفض</td>\n",
       "      <td>2017</td>\n",
       "      <td>4</td>\n",
       "      <td>لا</td>\n",
       "      <td>1</td>\n",
       "    </tr>\n",
       "    <tr>\n",
       "      <th>1</th>\n",
       "      <td>الصناعة التحويلية</td>\n",
       "      <td>45686</td>\n",
       "      <td>108045</td>\n",
       "      <td>منخفض</td>\n",
       "      <td>2017</td>\n",
       "      <td>4</td>\n",
       "      <td>لا</td>\n",
       "      <td>1</td>\n",
       "    </tr>\n",
       "    <tr>\n",
       "      <th>2</th>\n",
       "      <td>الصناعة التحويلية</td>\n",
       "      <td>12963</td>\n",
       "      <td>108045</td>\n",
       "      <td>منخفض</td>\n",
       "      <td>2017</td>\n",
       "      <td>4</td>\n",
       "      <td>لا</td>\n",
       "      <td>1</td>\n",
       "    </tr>\n",
       "    <tr>\n",
       "      <th>3</th>\n",
       "      <td>التعليم</td>\n",
       "      <td>42671</td>\n",
       "      <td>9298</td>\n",
       "      <td>منخفض</td>\n",
       "      <td>2017</td>\n",
       "      <td>4</td>\n",
       "      <td>لا</td>\n",
       "      <td>1</td>\n",
       "    </tr>\n",
       "    <tr>\n",
       "      <th>4</th>\n",
       "      <td>الأنشطة المهنية والعلمية والتقنية</td>\n",
       "      <td>29713</td>\n",
       "      <td>12643</td>\n",
       "      <td>منخفض</td>\n",
       "      <td>2017</td>\n",
       "      <td>4</td>\n",
       "      <td>لا</td>\n",
       "      <td>1</td>\n",
       "    </tr>\n",
       "    <tr>\n",
       "      <th>5</th>\n",
       "      <td>الأنشطة المهنية والعلمية والتقنية</td>\n",
       "      <td>27312</td>\n",
       "      <td>12643</td>\n",
       "      <td>منخفض</td>\n",
       "      <td>2017</td>\n",
       "      <td>4</td>\n",
       "      <td>لا</td>\n",
       "      <td>1</td>\n",
       "    </tr>\n",
       "    <tr>\n",
       "      <th>6</th>\n",
       "      <td>التعدين واستغلال المحاجر</td>\n",
       "      <td>26998</td>\n",
       "      <td>665</td>\n",
       "      <td>منخفض</td>\n",
       "      <td>2017</td>\n",
       "      <td>4</td>\n",
       "      <td>نعم</td>\n",
       "      <td>1</td>\n",
       "    </tr>\n",
       "    <tr>\n",
       "      <th>7</th>\n",
       "      <td>النقل والتخزين</td>\n",
       "      <td>10200</td>\n",
       "      <td>16631</td>\n",
       "      <td>منخفض</td>\n",
       "      <td>2017</td>\n",
       "      <td>4</td>\n",
       "      <td>لا</td>\n",
       "      <td>1</td>\n",
       "    </tr>\n",
       "    <tr>\n",
       "      <th>8</th>\n",
       "      <td>النقل والتخزين</td>\n",
       "      <td>43726</td>\n",
       "      <td>16631</td>\n",
       "      <td>منخفض</td>\n",
       "      <td>2017</td>\n",
       "      <td>4</td>\n",
       "      <td>لا</td>\n",
       "      <td>1</td>\n",
       "    </tr>\n",
       "    <tr>\n",
       "      <th>9</th>\n",
       "      <td>الأنشطة الإدارية وخدمات الدعم</td>\n",
       "      <td>16401</td>\n",
       "      <td>21346</td>\n",
       "      <td>منخفض</td>\n",
       "      <td>2017</td>\n",
       "      <td>4</td>\n",
       "      <td>نعم</td>\n",
       "      <td>1</td>\n",
       "    </tr>\n",
       "    <tr>\n",
       "      <th>10</th>\n",
       "      <td>الأنشطة المالية وأنشطة التأمين</td>\n",
       "      <td>42733</td>\n",
       "      <td>6589</td>\n",
       "      <td>منخفض</td>\n",
       "      <td>2017</td>\n",
       "      <td>4</td>\n",
       "      <td>لا</td>\n",
       "      <td>1</td>\n",
       "    </tr>\n",
       "    <tr>\n",
       "      <th>11</th>\n",
       "      <td>الأنشطة الإدارية وخدمات الدعم</td>\n",
       "      <td>17691</td>\n",
       "      <td>21346</td>\n",
       "      <td>منخفض</td>\n",
       "      <td>2017</td>\n",
       "      <td>4</td>\n",
       "      <td>لا</td>\n",
       "      <td>1</td>\n",
       "    </tr>\n",
       "    <tr>\n",
       "      <th>12</th>\n",
       "      <td>الإقامة وخدمات الطعام</td>\n",
       "      <td>47439</td>\n",
       "      <td>103214</td>\n",
       "      <td>منخفض</td>\n",
       "      <td>2017</td>\n",
       "      <td>4</td>\n",
       "      <td>لا</td>\n",
       "      <td>1</td>\n",
       "    </tr>\n",
       "    <tr>\n",
       "      <th>13</th>\n",
       "      <td>البناء والتشييد</td>\n",
       "      <td>15781</td>\n",
       "      <td>33926</td>\n",
       "      <td>منخفض</td>\n",
       "      <td>2017</td>\n",
       "      <td>4</td>\n",
       "      <td>نعم</td>\n",
       "      <td>1</td>\n",
       "    </tr>\n",
       "    <tr>\n",
       "      <th>14</th>\n",
       "      <td>البناء والتشييد</td>\n",
       "      <td>15266</td>\n",
       "      <td>33926</td>\n",
       "      <td>منخفض</td>\n",
       "      <td>2017</td>\n",
       "      <td>4</td>\n",
       "      <td>لا</td>\n",
       "      <td>1</td>\n",
       "    </tr>\n",
       "    <tr>\n",
       "      <th>15</th>\n",
       "      <td>الأنشطة العقارية</td>\n",
       "      <td>44537</td>\n",
       "      <td>34603</td>\n",
       "      <td>منخفض</td>\n",
       "      <td>2017</td>\n",
       "      <td>4</td>\n",
       "      <td>لا</td>\n",
       "      <td>1</td>\n",
       "    </tr>\n",
       "    <tr>\n",
       "      <th>16</th>\n",
       "      <td>الأنشطة العقارية</td>\n",
       "      <td>36852</td>\n",
       "      <td>34603</td>\n",
       "      <td>منخفض</td>\n",
       "      <td>2017</td>\n",
       "      <td>4</td>\n",
       "      <td>لا</td>\n",
       "      <td>1</td>\n",
       "    </tr>\n",
       "    <tr>\n",
       "      <th>17</th>\n",
       "      <td>الزراعة والحراجة وصيد الأسماك</td>\n",
       "      <td>31484</td>\n",
       "      <td>89702</td>\n",
       "      <td>منخفض</td>\n",
       "      <td>2017</td>\n",
       "      <td>4</td>\n",
       "      <td>لا</td>\n",
       "      <td>1</td>\n",
       "    </tr>\n",
       "    <tr>\n",
       "      <th>18</th>\n",
       "      <td>الزراعة والحراجة وصيد الأسماك</td>\n",
       "      <td>47946</td>\n",
       "      <td>89702</td>\n",
       "      <td>منخفض</td>\n",
       "      <td>2017</td>\n",
       "      <td>4</td>\n",
       "      <td>نعم</td>\n",
       "      <td>1</td>\n",
       "    </tr>\n",
       "    <tr>\n",
       "      <th>19</th>\n",
       "      <td>أنشطة خدماتية أخرى</td>\n",
       "      <td>13863</td>\n",
       "      <td>78792</td>\n",
       "      <td>منخفض</td>\n",
       "      <td>2017</td>\n",
       "      <td>4</td>\n",
       "      <td>لا</td>\n",
       "      <td>1</td>\n",
       "    </tr>\n",
       "  </tbody>\n",
       "</table>\n",
       "</div>"
      ],
      "text/plain": [
       "                     النشاط الاقتصادي  متوسط الإيرادات (دينار)  \\\n",
       "0            التعدين واستغلال المحاجر                    32220   \n",
       "1                   الصناعة التحويلية                    45686   \n",
       "2                   الصناعة التحويلية                    12963   \n",
       "3                             التعليم                    42671   \n",
       "4   الأنشطة المهنية والعلمية والتقنية                    29713   \n",
       "5   الأنشطة المهنية والعلمية والتقنية                    27312   \n",
       "6            التعدين واستغلال المحاجر                    26998   \n",
       "7                      النقل والتخزين                    10200   \n",
       "8                      النقل والتخزين                    43726   \n",
       "9       الأنشطة الإدارية وخدمات الدعم                    16401   \n",
       "10     الأنشطة المالية وأنشطة التأمين                    42733   \n",
       "11      الأنشطة الإدارية وخدمات الدعم                    17691   \n",
       "12              الإقامة وخدمات الطعام                    47439   \n",
       "13                    البناء والتشييد                    15781   \n",
       "14                    البناء والتشييد                    15266   \n",
       "15                   الأنشطة العقارية                    44537   \n",
       "16                   الأنشطة العقارية                    36852   \n",
       "17      الزراعة والحراجة وصيد الأسماك                    31484   \n",
       "18      الزراعة والحراجة وصيد الأسماك                    47946   \n",
       "19                 أنشطة خدماتية أخرى                    13863   \n",
       "\n",
       "    عدد المنشآت الاقتصادية مستوى النشاط  السنة  الربع مدعومة حكوميًا؟  \\\n",
       "0                      665        منخفض   2017      4              لا   \n",
       "1                   108045        منخفض   2017      4              لا   \n",
       "2                   108045        منخفض   2017      4              لا   \n",
       "3                     9298        منخفض   2017      4              لا   \n",
       "4                    12643        منخفض   2017      4              لا   \n",
       "5                    12643        منخفض   2017      4              لا   \n",
       "6                      665        منخفض   2017      4             نعم   \n",
       "7                    16631        منخفض   2017      4              لا   \n",
       "8                    16631        منخفض   2017      4              لا   \n",
       "9                    21346        منخفض   2017      4             نعم   \n",
       "10                    6589        منخفض   2017      4              لا   \n",
       "11                   21346        منخفض   2017      4              لا   \n",
       "12                  103214        منخفض   2017      4              لا   \n",
       "13                   33926        منخفض   2017      4             نعم   \n",
       "14                   33926        منخفض   2017      4              لا   \n",
       "15                   34603        منخفض   2017      4              لا   \n",
       "16                   34603        منخفض   2017      4              لا   \n",
       "17                   89702        منخفض   2017      4              لا   \n",
       "18                   89702        منخفض   2017      4             نعم   \n",
       "19                   78792        منخفض   2017      4              لا   \n",
       "\n",
       "    احتمال الإغلاق  \n",
       "0                1  \n",
       "1                1  \n",
       "2                1  \n",
       "3                1  \n",
       "4                1  \n",
       "5                1  \n",
       "6                1  \n",
       "7                1  \n",
       "8                1  \n",
       "9                1  \n",
       "10               1  \n",
       "11               1  \n",
       "12               1  \n",
       "13               1  \n",
       "14               1  \n",
       "15               1  \n",
       "16               1  \n",
       "17               1  \n",
       "18               1  \n",
       "19               1  "
      ]
     },
     "metadata": {},
     "output_type": "display_data"
    }
   ],
   "source": [
    "# %%\n",
    "# 2. Load the data\n",
    "df = pd.read_excel(\"المنشآت_الاقتصادية_مع_دعم_وإيرادات.xlsx\")\n",
    "\n",
    "# Quick look\n",
    "print(\"Shape:\", df.shape)\n",
    "display(df.head(20))"
   ]
  },
  {
   "cell_type": "markdown",
   "metadata": {},
   "source": [
    "# أسئلة التحليل الوصفي (EDA) التفاعلية"
   ]
  },
  {
   "cell_type": "markdown",
   "metadata": {},
   "source": [
    "#  ما متوسط الإيرادات لجميع الأنشطة؟ وهل هو رقم يعكس حالة اقتصادية جيدة أم لا؟\n"
   ]
  },
  {
   "cell_type": "code",
   "execution_count": 3,
   "metadata": {},
   "outputs": [
    {
     "data": {
      "text/plain": [
       "36275.89236111111"
      ]
     },
     "execution_count": 3,
     "metadata": {},
     "output_type": "execute_result"
    }
   ],
   "source": [
    "df['متوسط الإيرادات (دينار)'].mean()\n",
    "\n",
    "# 🔎 هل تعتقد أن هذا الرقم يُعتبر مرتفعًا أم منخفضًا بالنسبة لحجم السوق؟\n"
   ]
  },
  {
   "cell_type": "markdown",
   "metadata": {},
   "source": [
    "# ما أعلى نشاط اقتصادي من حيث متوسط الإيرادات؟ وما السبب المتوقع لذلك؟\n",
    "\n"
   ]
  },
  {
   "cell_type": "code",
   "execution_count": 4,
   "metadata": {},
   "outputs": [
    {
     "data": {
      "text/plain": [
       "'تجارة الجملة والتجزئة؛ إصلاح المركبات ذات المحركات والدراجات النارية'"
      ]
     },
     "execution_count": 4,
     "metadata": {},
     "output_type": "execute_result"
    }
   ],
   "source": [
    "df.groupby('النشاط الاقتصادي')['متوسط الإيرادات (دينار)'].mean().idxmax()\n",
    "#🔎 هل تتوقع أن هذا النشاط مدعوم؟ هل هو نشاط موسمي أو أساسي؟\n",
    "\n"
   ]
  },
  {
   "cell_type": "markdown",
   "metadata": {},
   "source": [
    "#  ما أدنى نشاط اقتصادي من حيث متوسط الإيرادات؟ وماذا يمكن أن نوصي لدعمه؟\n",
    "\n"
   ]
  },
  {
   "cell_type": "code",
   "execution_count": 13,
   "metadata": {},
   "outputs": [
    {
     "data": {
      "text/plain": [
       "'الأنشطة الإدارية وخدمات الدعم'"
      ]
     },
     "execution_count": 13,
     "metadata": {},
     "output_type": "execute_result"
    }
   ],
   "source": [
    "df.groupby('النشاط الاقتصادي')['متوسط الإيرادات (دينار)'].mean().idxmin()\n",
    "\n",
    "# هل هذا النشاط يعاني من ضعف في الطلب؟ هل يحتاج لتدخل حكومي؟\n",
    "\n"
   ]
  },
  {
   "cell_type": "markdown",
   "metadata": {},
   "source": [
    "#   ما النشاط الأكثر انتشارًا من حيث عدد المنشآت؟\n"
   ]
  },
  {
   "cell_type": "code",
   "execution_count": 5,
   "metadata": {},
   "outputs": [
    {
     "data": {
      "text/plain": [
       "'تجارة الجملة والتجزئة؛ إصلاح المركبات ذات المحركات والدراجات النارية'"
      ]
     },
     "execution_count": 5,
     "metadata": {},
     "output_type": "execute_result"
    }
   ],
   "source": [
    "df.groupby('النشاط الاقتصادي')['عدد المنشآت الاقتصادية'].mean().idxmax()\n",
    "#هل الانتشار دليل على النجاح؟ أم أن كثرة المنشآت تؤدي إلى منافسة مفرطة؟\n",
    "\n"
   ]
  },
  {
   "cell_type": "markdown",
   "metadata": {},
   "source": [
    "# كم نسبة الأنشطة التي تواجه خطر الإغلاق؟ وهل الرقم يدعو للقلق؟"
   ]
  },
  {
   "cell_type": "code",
   "execution_count": 6,
   "metadata": {},
   "outputs": [
    {
     "data": {
      "text/plain": [
       "احتمال الإغلاق\n",
       "1    0.951389\n",
       "0    0.048611\n",
       "Name: proportion, dtype: float64"
      ]
     },
     "execution_count": 6,
     "metadata": {},
     "output_type": "execute_result"
    }
   ],
   "source": [
    "df['احتمال الإغلاق'].value_counts(normalize=True)\n",
    "#💬 إذا كانت النسبة عالية، ما السياسات التي يجب دراستها؟\n",
    "\n"
   ]
  },
  {
   "cell_type": "markdown",
   "metadata": {},
   "source": [
    "# هل هناك علاقة بين الدعم الحكومي ومتوسط الإيرادات؟"
   ]
  },
  {
   "cell_type": "code",
   "execution_count": 8,
   "metadata": {},
   "outputs": [
    {
     "data": {
      "text/plain": [
       "مستوى النشاط\n",
       "عالٍ     167037.357143\n",
       "متوسط     54035.000000\n",
       "منخفض     29414.941176\n",
       "Name: متوسط الإيرادات (دينار), dtype: float64"
      ]
     },
     "execution_count": 8,
     "metadata": {},
     "output_type": "execute_result"
    }
   ],
   "source": [
    "df.groupby('مستوى النشاط')['متوسط الإيرادات (دينار)'].mean()\n",
    "#هل يتماشى مستوى النشاط مع الإيرادات فعلاً"
   ]
  },
  {
   "cell_type": "markdown",
   "metadata": {},
   "source": [
    "# ما هو متوسط الإيرادات لكل مستوى نشاط (مرتفع / منخفض)؟\n"
   ]
  },
  {
   "cell_type": "code",
   "execution_count": 19,
   "metadata": {},
   "outputs": [
    {
     "data": {
      "text/plain": [
       "مدعومة حكوميًا؟\n",
       "لا     32071.708520\n",
       "نعم    50699.476923\n",
       "Name: متوسط الإيرادات (دينار), dtype: float64"
      ]
     },
     "execution_count": 19,
     "metadata": {},
     "output_type": "execute_result"
    }
   ],
   "source": [
    "df.groupby('مدعومة حكوميًا؟')['متوسط الإيرادات (دينار)'].mean()\n",
    "# هل الأنشطة المدعومة تحقق فعلاً إيرادات أعلى؟ أم لا يوجد فرق؟\n",
    "\n"
   ]
  },
  {
   "cell_type": "markdown",
   "metadata": {},
   "source": [
    "# هل هناك علاقة ارتباط بين عدد المنشآت ومتوسط الإيرادات؟"
   ]
  },
  {
   "cell_type": "code",
   "execution_count": 9,
   "metadata": {},
   "outputs": [
    {
     "data": {
      "application/vnd.microsoft.datawrangler.viewer.v0+json": {
       "columns": [
        {
         "name": "index",
         "rawType": "object",
         "type": "string"
        },
        {
         "name": "عدد المنشآت الاقتصادية",
         "rawType": "float64",
         "type": "float"
        },
        {
         "name": "متوسط الإيرادات (دينار)",
         "rawType": "float64",
         "type": "float"
        }
       ],
       "conversionMethod": "pd.DataFrame",
       "ref": "283cf1b2-31b1-4bec-9bf2-021e563106b0",
       "rows": [
        [
         "عدد المنشآت الاقتصادية",
         "1.0",
         "0.8334460381464801"
        ],
        [
         "متوسط الإيرادات (دينار)",
         "0.8334460381464801",
         "1.0"
        ]
       ],
       "shape": {
        "columns": 2,
        "rows": 2
       }
      },
      "text/html": [
       "<div>\n",
       "<style scoped>\n",
       "    .dataframe tbody tr th:only-of-type {\n",
       "        vertical-align: middle;\n",
       "    }\n",
       "\n",
       "    .dataframe tbody tr th {\n",
       "        vertical-align: top;\n",
       "    }\n",
       "\n",
       "    .dataframe thead th {\n",
       "        text-align: right;\n",
       "    }\n",
       "</style>\n",
       "<table border=\"1\" class=\"dataframe\">\n",
       "  <thead>\n",
       "    <tr style=\"text-align: right;\">\n",
       "      <th></th>\n",
       "      <th>عدد المنشآت الاقتصادية</th>\n",
       "      <th>متوسط الإيرادات (دينار)</th>\n",
       "    </tr>\n",
       "  </thead>\n",
       "  <tbody>\n",
       "    <tr>\n",
       "      <th>عدد المنشآت الاقتصادية</th>\n",
       "      <td>1.000000</td>\n",
       "      <td>0.833446</td>\n",
       "    </tr>\n",
       "    <tr>\n",
       "      <th>متوسط الإيرادات (دينار)</th>\n",
       "      <td>0.833446</td>\n",
       "      <td>1.000000</td>\n",
       "    </tr>\n",
       "  </tbody>\n",
       "</table>\n",
       "</div>"
      ],
      "text/plain": [
       "                         عدد المنشآت الاقتصادية  متوسط الإيرادات (دينار)\n",
       "عدد المنشآت الاقتصادية                 1.000000                 0.833446\n",
       "متوسط الإيرادات (دينار)                0.833446                 1.000000"
      ]
     },
     "execution_count": 9,
     "metadata": {},
     "output_type": "execute_result"
    }
   ],
   "source": [
    "df[['عدد المنشآت الاقتصادية', 'متوسط الإيرادات (دينار)']].corr()\n",
    "#هل كثرة المنشآت تؤدي إلى إيرادات أعلى؟ أم العكس؟"
   ]
  },
  {
   "cell_type": "markdown",
   "metadata": {},
   "source": [
    "# كيف يتغير عدد المنشآت بمرور الوقت؟ ما الفترات التي شهدت نمواً؟\n",
    "\n"
   ]
  },
  {
   "cell_type": "code",
   "execution_count": 30,
   "metadata": {},
   "outputs": [
    {
     "data": {
      "image/png": "[encoded data removed]",
      "text/plain": [
       "<Figure size 1000x500 with 1 Axes>"
      ]
     },
     "metadata": {},
     "output_type": "display_data"
    }
   ],
   "source": [
    "# رسم خطي بسيط لتطور عدد المنشآت الاقتصادية مع الزمن\n",
    "df.groupby('السنة')['عدد المنشآت الاقتصادية'].sum().plot(\n",
    " figsize=(10, 5), title='تطور عدد المنشآت الاقتصادية حسب السنة'\n",
    ")\n",
    "plt.xlabel('السنة')\n",
    "plt.ylabel('إجمالي عدد المنشآت')\n",
    "plt.grid(True)\n",
    "plt.tight_layout()\n",
    "plt.show()\n",
    "\n",
    "# اربط هذا النمو بأحداث اقتصادية أو مواسم دعم."
   ]
  },
  {
   "cell_type": "markdown",
   "metadata": {},
   "source": [
    "# كيف تطور عدد منشآت \"الصناعة التحويلية\" عبر الفصول؟ هل كانت مستقرة؟"
   ]
  },
  {
   "cell_type": "code",
   "execution_count": null,
   "metadata": {},
   "outputs": [],
   "source": [
    "df[df['النشاط الاقتصادي'] == 'الصناعة التحويلية'].groupby(['السنة', 'الربع'])['عدد المنشآت الاقتصادية'].sum()\n",
    "# هل واجهت تقلبات؟ هل هذا مرتبط بانخفاض الطلب أو مشاكل التوريد"
   ]
  },
  {
   "cell_type": "markdown",
   "metadata": {},
   "source": [
    "# ما عدد الأنشطة الفريدة؟ وهل هناك أنشطة تتكرر كثيراً في البيانات؟"
   ]
  },
  {
   "cell_type": "code",
   "execution_count": null,
   "metadata": {},
   "outputs": [],
   "source": [
    "df['النشاط الاقتصادي'].nunique(), df['النشاط الاقتصادي'].value_counts()\n",
    "#هل كثرة التكرار تدل على أهمية القطاع؟ أم على تكرار في التبويب؟"
   ]
  },
  {
   "cell_type": "markdown",
   "metadata": {},
   "source": [
    "# هل هناك نشاط اقتصادي مدعوم لكنه يحقق إيرادات منخفضة؟"
   ]
  },
  {
   "cell_type": "code",
   "execution_count": 16,
   "metadata": {},
   "outputs": [
    {
     "data": {
      "application/vnd.microsoft.datawrangler.viewer.v0+json": {
       "columns": [
        {
         "name": "index",
         "rawType": "int64",
         "type": "integer"
        },
        {
         "name": "النشاط الاقتصادي",
         "rawType": "object",
         "type": "string"
        },
        {
         "name": "متوسط الإيرادات (دينار)",
         "rawType": "int64",
         "type": "integer"
        },
        {
         "name": "عدد المنشآت الاقتصادية",
         "rawType": "int64",
         "type": "integer"
        },
        {
         "name": "مستوى النشاط",
         "rawType": "object",
         "type": "string"
        },
        {
         "name": "السنة",
         "rawType": "int64",
         "type": "integer"
        },
        {
         "name": "الربع",
         "rawType": "int64",
         "type": "integer"
        },
        {
         "name": "مدعومة حكوميًا؟",
         "rawType": "object",
         "type": "string"
        },
        {
         "name": "احتمال الإغلاق",
         "rawType": "int64",
         "type": "integer"
        }
       ],
       "conversionMethod": "pd.DataFrame",
       "ref": "2093866e-5d38-451e-bc43-bafe384df911",
       "rows": [
        [
         "94",
         "أنشطة خدماتية أخرى",
         "10210",
         "78903",
         "منخفض",
         "2018",
         "2",
         "نعم",
         "1"
        ],
        [
         "45",
         "الأنشطة الإدارية وخدمات الدعم",
         "10751",
         "21453",
         "منخفض",
         "2018",
         "1",
         "نعم",
         "1"
        ],
        [
         "274",
         "التعليم",
         "12295",
         "9287",
         "منخفض",
         "2019",
         "4",
         "نعم",
         "1"
        ],
        [
         "228",
         "التعليم",
         "12627",
         "8954",
         "منخفض",
         "2019",
         "2",
         "نعم",
         "1"
        ],
        [
         "86",
         "الأنشطة الإدارية وخدمات الدعم",
         "12974",
         "21453",
         "منخفض",
         "2018",
         "2",
         "نعم",
         "1"
        ]
       ],
       "shape": {
        "columns": 8,
        "rows": 5
       }
      },
      "text/html": [
       "<div>\n",
       "<style scoped>\n",
       "    .dataframe tbody tr th:only-of-type {\n",
       "        vertical-align: middle;\n",
       "    }\n",
       "\n",
       "    .dataframe tbody tr th {\n",
       "        vertical-align: top;\n",
       "    }\n",
       "\n",
       "    .dataframe thead th {\n",
       "        text-align: right;\n",
       "    }\n",
       "</style>\n",
       "<table border=\"1\" class=\"dataframe\">\n",
       "  <thead>\n",
       "    <tr style=\"text-align: right;\">\n",
       "      <th></th>\n",
       "      <th>النشاط الاقتصادي</th>\n",
       "      <th>متوسط الإيرادات (دينار)</th>\n",
       "      <th>عدد المنشآت الاقتصادية</th>\n",
       "      <th>مستوى النشاط</th>\n",
       "      <th>السنة</th>\n",
       "      <th>الربع</th>\n",
       "      <th>مدعومة حكوميًا؟</th>\n",
       "      <th>احتمال الإغلاق</th>\n",
       "    </tr>\n",
       "  </thead>\n",
       "  <tbody>\n",
       "    <tr>\n",
       "      <th>94</th>\n",
       "      <td>أنشطة خدماتية أخرى</td>\n",
       "      <td>10210</td>\n",
       "      <td>78903</td>\n",
       "      <td>منخفض</td>\n",
       "      <td>2018</td>\n",
       "      <td>2</td>\n",
       "      <td>نعم</td>\n",
       "      <td>1</td>\n",
       "    </tr>\n",
       "    <tr>\n",
       "      <th>45</th>\n",
       "      <td>الأنشطة الإدارية وخدمات الدعم</td>\n",
       "      <td>10751</td>\n",
       "      <td>21453</td>\n",
       "      <td>منخفض</td>\n",
       "      <td>2018</td>\n",
       "      <td>1</td>\n",
       "      <td>نعم</td>\n",
       "      <td>1</td>\n",
       "    </tr>\n",
       "    <tr>\n",
       "      <th>274</th>\n",
       "      <td>التعليم</td>\n",
       "      <td>12295</td>\n",
       "      <td>9287</td>\n",
       "      <td>منخفض</td>\n",
       "      <td>2019</td>\n",
       "      <td>4</td>\n",
       "      <td>نعم</td>\n",
       "      <td>1</td>\n",
       "    </tr>\n",
       "    <tr>\n",
       "      <th>228</th>\n",
       "      <td>التعليم</td>\n",
       "      <td>12627</td>\n",
       "      <td>8954</td>\n",
       "      <td>منخفض</td>\n",
       "      <td>2019</td>\n",
       "      <td>2</td>\n",
       "      <td>نعم</td>\n",
       "      <td>1</td>\n",
       "    </tr>\n",
       "    <tr>\n",
       "      <th>86</th>\n",
       "      <td>الأنشطة الإدارية وخدمات الدعم</td>\n",
       "      <td>12974</td>\n",
       "      <td>21453</td>\n",
       "      <td>منخفض</td>\n",
       "      <td>2018</td>\n",
       "      <td>2</td>\n",
       "      <td>نعم</td>\n",
       "      <td>1</td>\n",
       "    </tr>\n",
       "  </tbody>\n",
       "</table>\n",
       "</div>"
      ],
      "text/plain": [
       "                  النشاط الاقتصادي  متوسط الإيرادات (دينار)  \\\n",
       "94              أنشطة خدماتية أخرى                    10210   \n",
       "45   الأنشطة الإدارية وخدمات الدعم                    10751   \n",
       "274                        التعليم                    12295   \n",
       "228                        التعليم                    12627   \n",
       "86   الأنشطة الإدارية وخدمات الدعم                    12974   \n",
       "\n",
       "     عدد المنشآت الاقتصادية مستوى النشاط  السنة  الربع مدعومة حكوميًا؟  \\\n",
       "94                    78903        منخفض   2018      2             نعم   \n",
       "45                    21453        منخفض   2018      1             نعم   \n",
       "274                    9287        منخفض   2019      4             نعم   \n",
       "228                    8954        منخفض   2019      2             نعم   \n",
       "86                    21453        منخفض   2018      2             نعم   \n",
       "\n",
       "     احتمال الإغلاق  \n",
       "94                1  \n",
       "45                1  \n",
       "274               1  \n",
       "228               1  \n",
       "86                1  "
      ]
     },
     "execution_count": 16,
     "metadata": {},
     "output_type": "execute_result"
    }
   ],
   "source": [
    "df[df['مدعومة حكوميًا؟'] == \"نعم\"].sort_values(by='متوسط الإيرادات (دينار)').head()\n",
    "# هل الدعم يُوزع بناءً على الأداء؟ أم على نوع النشاط فقط؟"
   ]
  },
  {
   "cell_type": "markdown",
   "metadata": {},
   "source": [
    "# إذا أردت تحسين الأداء العام، ما النشاط تقترح أن يحصل على دعم إضافي؟ ولماذا؟\n"
   ]
  },
  {
   "cell_type": "markdown",
   "metadata": {},
   "source": []
  },
  {
   "cell_type": "markdown",
   "metadata": {},
   "source": [
    " التحليل الداعم للاقتراح:\n",
    "متوسط الإيرادات منخفض جدًا رغم أن القطاع يُعد من البنى التحتية الأساسية للاقتصاد (كما ظهر في السؤال 3):\n",
    "\n",
    "-----------\n",
    "df[df['النشاط الاقتصادي'] == 'النقل والتخزين']['متوسط الإيرادات (دينار)'].mean()\n",
    "عدد المنشآت لا يزال مرتفع نسبيًا، ما يعني أن هناك رغبة في الاستثمار بالقطاع، لكن الأداء المالي لا يتناسب:\n",
    "----------------\n",
    "python\n",
    "Copy code\n",
    "df[df['النشاط الاقتصادي'] == 'النقل والتخزين']['عدد المنشآت الاقتصادية'].mean()\n",
    "الدعم الحكومي ضعيف أو غير موجود للقطاع حسب النتائج في:\n",
    "-----------------\n",
    "python\n",
    "Copy code\n",
    "df[df['النشاط الاقتصادي'] == 'النقل والتخزين']['مدعومة حكوميًا؟'].value_counts()\n",
    "القطاع حيوي جداً ويتأثر مباشرة بارتفاع تكاليف الطاقة والوقود، مما يبرر دعمه لتقليل الأعباء التشغيلية."
   ]
  },
  {
   "cell_type": "markdown",
   "metadata": {},
   "source": [
    "#  القسم الأول: أسئلة المعالجة المبدئية (Preprocessing Questions)"
   ]
  },
  {
   "cell_type": "markdown",
   "metadata": {},
   "source": [
    "## ما وصف إحصائي مختصر (متوسط، انحراف، إلخ) للإيرادات وعدد المنشآت؟\n",
    "\n"
   ]
  },
  {
   "cell_type": "code",
   "execution_count": null,
   "metadata": {},
   "outputs": [],
   "source": [
    "df[['متوسط الإيرادات (دينار)', 'عدد المنشآت الاقتصادية']].describe()\n"
   ]
  },
  {
   "cell_type": "markdown",
   "metadata": {},
   "source": [
    "##  هل هناك صفوف تحتوي على بيانات مفقودة بالكامل؟\n"
   ]
  },
  {
   "cell_type": "code",
   "execution_count": null,
   "metadata": {},
   "outputs": [],
   "source": [
    "df[df.isnull().all(axis=1)]\n"
   ]
  },
  {
   "cell_type": "markdown",
   "metadata": {},
   "source": [
    "## كيف يمكن ترميز الأعمدة النصية رقمياً باستخدام LabelEncoder؟"
   ]
  },
  {
   "cell_type": "code",
   "execution_count": null,
   "metadata": {},
   "outputs": [],
   "source": [
    "from sklearn.preprocessing import LabelEncoder\n",
    "le = LabelEncoder()\n",
    "df['مستوى النشاط'] = le.fit_transform(df['مستوى النشاط'])\n",
    "df['النشاط الاقتصادي'] = le.fit_transform(df['النشاط الاقتصادي'])\n"
   ]
  },
  {
   "cell_type": "markdown",
   "metadata": {},
   "source": [
    "##  كيف نطبّق Standard Scaling على الأعمدة الرقمية؟"
   ]
  },
  {
   "cell_type": "code",
   "execution_count": null,
   "metadata": {},
   "outputs": [],
   "source": [
    "from sklearn.preprocessing import StandardScaler\n",
    "scaler = StandardScaler()\n",
    "df_scaled = df.copy()\n",
    "df_scaled[['متوسط الإيرادات (دينار)', 'عدد المنشآت الاقتصادية']] = scaler.fit_transform(\n",
    "    df_scaled[['متوسط الإيرادات (دينار)', 'عدد المنشآت الاقتصادية']]\n",
    ")\n"
   ]
  },
  {
   "cell_type": "markdown",
   "metadata": {},
   "source": [
    "## 1. تحديد المشكلة\n",
    "نوع المشكلة: تصنيف ثنائي (Binary Classification)\n",
    "\n",
    "الهدف: التنبؤ بـ احتمال الإغلاق = 0 أو 1\n",
    "\n"
   ]
  },
  {
   "cell_type": "code",
   "execution_count": null,
   "metadata": {},
   "outputs": [],
   "source": [
    "from sklearn.preprocessing import LabelEncoder, StandardScaler\n",
    "\n",
    "# ترميز الأعمدة النصية\n",
    "le = LabelEncoder()\n",
    "df['النشاط الاقتصادي'] = le.fit_transform(df['النشاط الاقتصادي'])\n",
    "df['مستوى النشاط'] = le.fit_transform(df['مستوى النشاط'])\n",
    "df['مدعومة حكوميًا؟'] = df['مدعومة حكوميًا؟'].map({'نعم': 1, 'لا': 0})\n",
    "\n",
    "# اختيار المدخلات والمخرجات\n",
    "X = df[['متوسط الإيرادات (دينار)', 'عدد المنشآت الاقتصادية', 'مدعومة حكوميًا؟',\n",
    "        'النشاط الاقتصادي', 'السنة', 'الربع', 'مستوى النشاط']]\n",
    "y = df['احتمال الإغلاق']\n",
    "\n",
    "# تحجيم البيانات\n",
    "scaler = StandardScaler()\n",
    "X_scaled = scaler.fit_transform(X)\n"
   ]
  },
  {
   "cell_type": "code",
   "execution_count": null,
   "metadata": {},
   "outputs": [],
   "source": [
    "new_data = scaler.transform([[15000, 500, 0, le.transform(['النقل والتخزين'])[0], 2024, 1, le.transform(['منخفض'])[0]]])\n",
    "model_rf.predict(new_data)\n"
   ]
  },
  {
   "cell_type": "markdown",
   "metadata": {},
   "source": [
    "##  الجزء الثاني: التعلم العميق (Deep Learning)\n",
    "📌 الهدف:\n",
    "بناء نموذج شبكة عصبية لتوقع احتمال إغلاق منشأة (0 أو 1).\n",
    "\n"
   ]
  },
  {
   "cell_type": "code",
   "execution_count": null,
   "metadata": {},
   "outputs": [],
   "source": [
    "import tensorflow as tf\n",
    "from tensorflow.keras.models import Sequential\n",
    "from tensorflow.keras.layers import Dense\n",
    "\n",
    "# تقسيم البيانات\n",
    "from sklearn.model_selection import train_test_split\n",
    "X_train, X_test, y_train, y_test = train_test_split(X_scaled, y, test_size=0.2, random_state=42)\n"
   ]
  },
  {
   "cell_type": "markdown",
   "metadata": {},
   "source": [
    "### . بناء نموذج الشبكة العصبية"
   ]
  },
  {
   "cell_type": "code",
   "execution_count": null,
   "metadata": {},
   "outputs": [],
   "source": [
    "model_dl = Sequential([\n",
    "    Dense(64, input_dim=X_train.shape[1], activation='relu'),\n",
    "    Dense(32, activation='relu'),\n",
    "    Dense(1, activation='sigmoid')  # للإغلاق: نعم أو لا\n",
    "])\n",
    "model_dl.compile(optimizer='adam', loss='binary_crossentropy', metrics=['accuracy'])\n"
   ]
  },
  {
   "cell_type": "markdown",
   "metadata": {},
   "source": [
    "###  تدريب النموذج"
   ]
  },
  {
   "cell_type": "code",
   "execution_count": null,
   "metadata": {},
   "outputs": [],
   "source": [
    "history = model_dl.fit(X_train, y_train, validation_data=(X_test, y_test), epochs=30, batch_size=8)\n"
   ]
  },
  {
   "cell_type": "code",
   "execution_count": 73,
   "metadata": {},
   "outputs": [
    {
     "name": "stdout",
     "output_type": "stream",
     "text": [
      "R² (r2_score): 1.000\n"
     ]
    }
   ],
   "source": [
    "from sklearn.linear_model import LogisticRegression\n",
    "\n",
    "# تدريب نموذج الانحدار اللوجستي\n",
    "log_model = LogisticRegression()\n",
    "log_model.fit(X_train, y_train)\n",
    "\n",
    "# التنبؤ على بيانات الاختبار\n",
    "y_pred_log = log_model.predict(X_test)\n",
    "r2 = r2_score(y_test, y_pred_log)\n",
    "print(f\"R² (r2_score): {r2:.3f}\")"
   ]
  },
  {
   "cell_type": "code",
   "execution_count": 76,
   "metadata": {},
   "outputs": [
    {
     "name": "stdout",
     "output_type": "stream",
     "text": [
      "R² (r2_score): 1.000\n"
     ]
    }
   ],
   "source": [
    "from sklearn.neighbors import KNeighborsClassifier\n",
    "\n",
    "# تدريب نموذج KNN\n",
    "knn_model = KNeighborsClassifier(n_neighbors=12)\n",
    "knn_model.fit(X_train, y_train)\n",
    "\n",
    "# التنبؤ والتقييم\n",
    "y_pred_knn = knn_model.predict(X_test)\n",
    "r2 = r2_score(y_test, y_pred_knn)\n",
    "print(f\"R² (r2_score): {r2:.3f}\")"
   ]
  },
  {
   "cell_type": "markdown",
   "metadata": {},
   "source": [
    "# NLP :\n"
   ]
  },
  {
   "cell_type": "markdown",
   "metadata": {},
   "source": [
    "## استخراج الكلمات المفتاحية لكل قطاع\n",
    "الفكرة:\n",
    "قسّم النشاط الاقتصادي إلى كلمات ثم استخرج الأكثر تكرارًا أو شيوعًا (مثل: \"الإمدادات\"، \"الخدمات\"، \"الصناعة\")."
   ]
  },
  {
   "cell_type": "code",
   "execution_count": 20,
   "metadata": {},
   "outputs": [
    {
     "data": {
      "text/plain": [
       "[('الأنشطة', 64),\n",
       " ('وخدمات', 32),\n",
       " ('إمدادات', 32),\n",
       " ('التعدين', 16),\n",
       " ('واستغلال', 16),\n",
       " ('المحاجر', 16),\n",
       " ('الصناعة', 16),\n",
       " ('التحويلية', 16),\n",
       " ('التعليم', 16),\n",
       " ('المهنية', 16)]"
      ]
     },
     "execution_count": 20,
     "metadata": {},
     "output_type": "execute_result"
    }
   ],
   "source": [
    "from collections import Counter\n",
    "words = ' '.join(df['النشاط الاقتصادي']).split()\n",
    "word_counts = Counter(words)\n",
    "word_counts.most_common(10)\n"
   ]
  },
  {
   "cell_type": "markdown",
   "metadata": {},
   "source": [
    "# 3. تصنيف الأنشطة حسب المحتوى النصي\n",
    "\n",
    "الفكرة: ## \n",
    "إنشاء نموذج يصنف النشاط إلى تصنيفات كبرى مثل:\n",
    "\n",
    "\"خدمات\"\n",
    "\n",
    "\"صناعة\"\n",
    "\n",
    "\"مالية\"\n",
    "\n",
    "\"زراعية\""
   ]
  },
  {
   "cell_type": "code",
   "execution_count": 22,
   "metadata": {},
   "outputs": [
    {
     "data": {
      "application/vnd.microsoft.datawrangler.viewer.v0+json": {
       "columns": [
        {
         "name": "index",
         "rawType": "int64",
         "type": "integer"
        },
        {
         "name": "النشاط الاقتصادي",
         "rawType": "object",
         "type": "string"
        },
        {
         "name": "متوسط الإيرادات (دينار)",
         "rawType": "int64",
         "type": "integer"
        },
        {
         "name": "عدد المنشآت الاقتصادية",
         "rawType": "int64",
         "type": "integer"
        },
        {
         "name": "مستوى النشاط",
         "rawType": "object",
         "type": "string"
        },
        {
         "name": "السنة",
         "rawType": "int64",
         "type": "integer"
        },
        {
         "name": "الربع",
         "rawType": "int64",
         "type": "integer"
        },
        {
         "name": "مدعومة حكوميًا؟",
         "rawType": "object",
         "type": "string"
        },
        {
         "name": "احتمال الإغلاق",
         "rawType": "int64",
         "type": "integer"
        },
        {
         "name": "التصنيف العام",
         "rawType": "object",
         "type": "string"
        }
       ],
       "conversionMethod": "pd.DataFrame",
       "ref": "4f48987f-77ad-420e-9194-0ec8fd8d430d",
       "rows": [
        [
         "0",
         "التعدين واستغلال المحاجر",
         "32220",
         "665",
         "منخفض",
         "2017",
         "4",
         "لا",
         "1",
         "أخرى"
        ],
        [
         "1",
         "الصناعة التحويلية",
         "45686",
         "108045",
         "منخفض",
         "2017",
         "4",
         "لا",
         "1",
         "صناعية"
        ],
        [
         "2",
         "الصناعة التحويلية",
         "12963",
         "108045",
         "منخفض",
         "2017",
         "4",
         "لا",
         "1",
         "صناعية"
        ],
        [
         "3",
         "التعليم",
         "42671",
         "9298",
         "منخفض",
         "2017",
         "4",
         "لا",
         "1",
         "خدمات عامة"
        ],
        [
         "4",
         "الأنشطة المهنية والعلمية والتقنية",
         "29713",
         "12643",
         "منخفض",
         "2017",
         "4",
         "لا",
         "1",
         "أخرى"
        ],
        [
         "5",
         "الأنشطة المهنية والعلمية والتقنية",
         "27312",
         "12643",
         "منخفض",
         "2017",
         "4",
         "لا",
         "1",
         "أخرى"
        ],
        [
         "6",
         "التعدين واستغلال المحاجر",
         "26998",
         "665",
         "منخفض",
         "2017",
         "4",
         "نعم",
         "1",
         "أخرى"
        ],
        [
         "7",
         "النقل والتخزين",
         "10200",
         "16631",
         "منخفض",
         "2017",
         "4",
         "لا",
         "1",
         "أخرى"
        ],
        [
         "8",
         "النقل والتخزين",
         "43726",
         "16631",
         "منخفض",
         "2017",
         "4",
         "لا",
         "1",
         "أخرى"
        ],
        [
         "9",
         "الأنشطة الإدارية وخدمات الدعم",
         "16401",
         "21346",
         "منخفض",
         "2017",
         "4",
         "نعم",
         "1",
         "أخرى"
        ],
        [
         "10",
         "الأنشطة المالية وأنشطة التأمين",
         "42733",
         "6589",
         "منخفض",
         "2017",
         "4",
         "لا",
         "1",
         "مالية"
        ],
        [
         "11",
         "الأنشطة الإدارية وخدمات الدعم",
         "17691",
         "21346",
         "منخفض",
         "2017",
         "4",
         "لا",
         "1",
         "أخرى"
        ],
        [
         "12",
         "الإقامة وخدمات الطعام",
         "47439",
         "103214",
         "منخفض",
         "2017",
         "4",
         "لا",
         "1",
         "أخرى"
        ],
        [
         "13",
         "البناء والتشييد",
         "15781",
         "33926",
         "منخفض",
         "2017",
         "4",
         "نعم",
         "1",
         "أخرى"
        ],
        [
         "14",
         "البناء والتشييد",
         "15266",
         "33926",
         "منخفض",
         "2017",
         "4",
         "لا",
         "1",
         "أخرى"
        ],
        [
         "15",
         "الأنشطة العقارية",
         "44537",
         "34603",
         "منخفض",
         "2017",
         "4",
         "لا",
         "1",
         "أخرى"
        ],
        [
         "16",
         "الأنشطة العقارية",
         "36852",
         "34603",
         "منخفض",
         "2017",
         "4",
         "لا",
         "1",
         "أخرى"
        ],
        [
         "17",
         "الزراعة والحراجة وصيد الأسماك",
         "31484",
         "89702",
         "منخفض",
         "2017",
         "4",
         "لا",
         "1",
         "زراعية"
        ],
        [
         "18",
         "الزراعة والحراجة وصيد الأسماك",
         "47946",
         "89702",
         "منخفض",
         "2017",
         "4",
         "نعم",
         "1",
         "زراعية"
        ],
        [
         "19",
         "أنشطة خدماتية أخرى",
         "13863",
         "78792",
         "منخفض",
         "2017",
         "4",
         "لا",
         "1",
         "أخرى"
        ],
        [
         "20",
         "أنشطة خدماتية أخرى",
         "43981",
         "78792",
         "منخفض",
         "2017",
         "4",
         "لا",
         "1",
         "أخرى"
        ],
        [
         "21",
         "الإقامة وخدمات الطعام",
         "46945",
         "103214",
         "منخفض",
         "2017",
         "4",
         "لا",
         "1",
         "أخرى"
        ],
        [
         "22",
         "الأنشطة المالية وأنشطة التأمين",
         "24390",
         "6589",
         "منخفض",
         "2017",
         "4",
         "لا",
         "1",
         "مالية"
        ],
        [
         "23",
         "التعليم",
         "27498",
         "9298",
         "منخفض",
         "2017",
         "4",
         "لا",
         "1",
         "خدمات عامة"
        ],
        [
         "24",
         "المعلومات والاتصالات",
         "12493",
         "5604",
         "منخفض",
         "2017",
         "4",
         "لا",
         "1",
         "أخرى"
        ],
        [
         "25",
         "الفنون والترفيه والتسلية",
         "34863",
         "2400",
         "منخفض",
         "2017",
         "4",
         "لا",
         "1",
         "أخرى"
        ],
        [
         "26",
         "إمدادات المياه والصرف الصحي وإدارة النفايات ومعالجتها",
         "22614",
         "2420",
         "منخفض",
         "2017",
         "4",
         "لا",
         "1",
         "أخرى"
        ],
        [
         "27",
         "إمدادات المياه والصرف الصحي وإدارة النفايات ومعالجتها",
         "37852",
         "2420",
         "منخفض",
         "2017",
         "4",
         "لا",
         "1",
         "أخرى"
        ],
        [
         "28",
         "الفنون والترفيه والتسلية",
         "18642",
         "2400",
         "منخفض",
         "2017",
         "4",
         "لا",
         "1",
         "أخرى"
        ],
        [
         "29",
         "تجارة الجملة والتجزئة؛ إصلاح المركبات ذات المحركات والدراجات النارية",
         "122396",
         "471284",
         "عالٍ",
         "2017",
         "4",
         "نعم",
         "0",
         "أخرى"
        ],
        [
         "30",
         "إمدادات الكهرباء والغاز والبخار وتكييف الهواء",
         "30981",
         "779",
         "منخفض",
         "2017",
         "4",
         "نعم",
         "1",
         "أخرى"
        ],
        [
         "31",
         "المعلومات والاتصالات",
         "29408",
         "5604",
         "منخفض",
         "2017",
         "4",
         "لا",
         "1",
         "أخرى"
        ],
        [
         "32",
         "تجارة الجملة والتجزئة؛ إصلاح المركبات ذات المحركات والدراجات النارية",
         "171608",
         "471284",
         "عالٍ",
         "2017",
         "4",
         "نعم",
         "0",
         "أخرى"
        ],
        [
         "33",
         "الصحة والعمل الاجتماعي",
         "43870",
         "5804",
         "منخفض",
         "2017",
         "4",
         "لا",
         "1",
         "خدمات عامة"
        ],
        [
         "34",
         "الصحة والعمل الاجتماعي",
         "17736",
         "5804",
         "منخفض",
         "2017",
         "4",
         "لا",
         "1",
         "خدمات عامة"
        ],
        [
         "35",
         "إمدادات الكهرباء والغاز والبخار وتكييف الهواء",
         "18609",
         "779",
         "منخفض",
         "2017",
         "4",
         "نعم",
         "1",
         "أخرى"
        ],
        [
         "36",
         "الأنشطة العقارية",
         "37677",
         "34762",
         "منخفض",
         "2018",
         "1",
         "لا",
         "1",
         "أخرى"
        ],
        [
         "37",
         "إمدادات الكهرباء والغاز والبخار وتكييف الهواء",
         "37666",
         "784",
         "منخفض",
         "2018",
         "1",
         "لا",
         "1",
         "أخرى"
        ],
        [
         "38",
         "الأنشطة العقارية",
         "17531",
         "34762",
         "منخفض",
         "2018",
         "1",
         "لا",
         "1",
         "أخرى"
        ],
        [
         "39",
         "إمدادات الكهرباء والغاز والبخار وتكييف الهواء",
         "10679",
         "784",
         "منخفض",
         "2018",
         "1",
         "لا",
         "1",
         "أخرى"
        ],
        [
         "40",
         "البناء والتشييد",
         "11990",
         "34117",
         "منخفض",
         "2018",
         "1",
         "لا",
         "1",
         "أخرى"
        ],
        [
         "41",
         "البناء والتشييد",
         "19390",
         "34117",
         "منخفض",
         "2018",
         "1",
         "لا",
         "1",
         "أخرى"
        ],
        [
         "42",
         "التعدين واستغلال المحاجر",
         "27433",
         "667",
         "منخفض",
         "2018",
         "1",
         "نعم",
         "1",
         "أخرى"
        ],
        [
         "43",
         "التعدين واستغلال المحاجر",
         "49845",
         "667",
         "منخفض",
         "2018",
         "1",
         "لا",
         "1",
         "أخرى"
        ],
        [
         "44",
         "الأنشطة الإدارية وخدمات الدعم",
         "11958",
         "21453",
         "منخفض",
         "2018",
         "1",
         "لا",
         "1",
         "أخرى"
        ],
        [
         "45",
         "الأنشطة الإدارية وخدمات الدعم",
         "10751",
         "21453",
         "منخفض",
         "2018",
         "1",
         "نعم",
         "1",
         "أخرى"
        ],
        [
         "46",
         "الصحة والعمل الاجتماعي",
         "18165",
         "5829",
         "منخفض",
         "2018",
         "1",
         "لا",
         "1",
         "خدمات عامة"
        ],
        [
         "47",
         "النقل والتخزين",
         "17250",
         "16692",
         "منخفض",
         "2018",
         "1",
         "لا",
         "1",
         "أخرى"
        ],
        [
         "48",
         "الفنون والترفيه والتسلية",
         "24024",
         "2419",
         "منخفض",
         "2018",
         "1",
         "لا",
         "1",
         "أخرى"
        ],
        [
         "49",
         "الصحة والعمل الاجتماعي",
         "30617",
         "5829",
         "منخفض",
         "2018",
         "1",
         "لا",
         "1",
         "خدمات عامة"
        ]
       ],
       "shape": {
        "columns": 9,
        "rows": 288
       }
      },
      "text/html": [
       "<div>\n",
       "<style scoped>\n",
       "    .dataframe tbody tr th:only-of-type {\n",
       "        vertical-align: middle;\n",
       "    }\n",
       "\n",
       "    .dataframe tbody tr th {\n",
       "        vertical-align: top;\n",
       "    }\n",
       "\n",
       "    .dataframe thead th {\n",
       "        text-align: right;\n",
       "    }\n",
       "</style>\n",
       "<table border=\"1\" class=\"dataframe\">\n",
       "  <thead>\n",
       "    <tr style=\"text-align: right;\">\n",
       "      <th></th>\n",
       "      <th>النشاط الاقتصادي</th>\n",
       "      <th>متوسط الإيرادات (دينار)</th>\n",
       "      <th>عدد المنشآت الاقتصادية</th>\n",
       "      <th>مستوى النشاط</th>\n",
       "      <th>السنة</th>\n",
       "      <th>الربع</th>\n",
       "      <th>مدعومة حكوميًا؟</th>\n",
       "      <th>احتمال الإغلاق</th>\n",
       "      <th>التصنيف العام</th>\n",
       "    </tr>\n",
       "  </thead>\n",
       "  <tbody>\n",
       "    <tr>\n",
       "      <th>0</th>\n",
       "      <td>التعدين واستغلال المحاجر</td>\n",
       "      <td>32220</td>\n",
       "      <td>665</td>\n",
       "      <td>منخفض</td>\n",
       "      <td>2017</td>\n",
       "      <td>4</td>\n",
       "      <td>لا</td>\n",
       "      <td>1</td>\n",
       "      <td>أخرى</td>\n",
       "    </tr>\n",
       "    <tr>\n",
       "      <th>1</th>\n",
       "      <td>الصناعة التحويلية</td>\n",
       "      <td>45686</td>\n",
       "      <td>108045</td>\n",
       "      <td>منخفض</td>\n",
       "      <td>2017</td>\n",
       "      <td>4</td>\n",
       "      <td>لا</td>\n",
       "      <td>1</td>\n",
       "      <td>صناعية</td>\n",
       "    </tr>\n",
       "    <tr>\n",
       "      <th>2</th>\n",
       "      <td>الصناعة التحويلية</td>\n",
       "      <td>12963</td>\n",
       "      <td>108045</td>\n",
       "      <td>منخفض</td>\n",
       "      <td>2017</td>\n",
       "      <td>4</td>\n",
       "      <td>لا</td>\n",
       "      <td>1</td>\n",
       "      <td>صناعية</td>\n",
       "    </tr>\n",
       "    <tr>\n",
       "      <th>3</th>\n",
       "      <td>التعليم</td>\n",
       "      <td>42671</td>\n",
       "      <td>9298</td>\n",
       "      <td>منخفض</td>\n",
       "      <td>2017</td>\n",
       "      <td>4</td>\n",
       "      <td>لا</td>\n",
       "      <td>1</td>\n",
       "      <td>خدمات عامة</td>\n",
       "    </tr>\n",
       "    <tr>\n",
       "      <th>4</th>\n",
       "      <td>الأنشطة المهنية والعلمية والتقنية</td>\n",
       "      <td>29713</td>\n",
       "      <td>12643</td>\n",
       "      <td>منخفض</td>\n",
       "      <td>2017</td>\n",
       "      <td>4</td>\n",
       "      <td>لا</td>\n",
       "      <td>1</td>\n",
       "      <td>أخرى</td>\n",
       "    </tr>\n",
       "    <tr>\n",
       "      <th>...</th>\n",
       "      <td>...</td>\n",
       "      <td>...</td>\n",
       "      <td>...</td>\n",
       "      <td>...</td>\n",
       "      <td>...</td>\n",
       "      <td>...</td>\n",
       "      <td>...</td>\n",
       "      <td>...</td>\n",
       "      <td>...</td>\n",
       "    </tr>\n",
       "    <tr>\n",
       "      <th>283</th>\n",
       "      <td>الصناعة التحويلية</td>\n",
       "      <td>45173</td>\n",
       "      <td>109823</td>\n",
       "      <td>منخفض</td>\n",
       "      <td>2019</td>\n",
       "      <td>4</td>\n",
       "      <td>لا</td>\n",
       "      <td>1</td>\n",
       "      <td>صناعية</td>\n",
       "    </tr>\n",
       "    <tr>\n",
       "      <th>284</th>\n",
       "      <td>البناء والتشييد</td>\n",
       "      <td>45839</td>\n",
       "      <td>32698</td>\n",
       "      <td>منخفض</td>\n",
       "      <td>2019</td>\n",
       "      <td>4</td>\n",
       "      <td>لا</td>\n",
       "      <td>1</td>\n",
       "      <td>أخرى</td>\n",
       "    </tr>\n",
       "    <tr>\n",
       "      <th>285</th>\n",
       "      <td>الأنشطة الإدارية وخدمات الدعم</td>\n",
       "      <td>42867</td>\n",
       "      <td>22364</td>\n",
       "      <td>منخفض</td>\n",
       "      <td>2019</td>\n",
       "      <td>4</td>\n",
       "      <td>لا</td>\n",
       "      <td>1</td>\n",
       "      <td>أخرى</td>\n",
       "    </tr>\n",
       "    <tr>\n",
       "      <th>286</th>\n",
       "      <td>الإقامة وخدمات الطعام</td>\n",
       "      <td>19235</td>\n",
       "      <td>107383</td>\n",
       "      <td>منخفض</td>\n",
       "      <td>2019</td>\n",
       "      <td>4</td>\n",
       "      <td>لا</td>\n",
       "      <td>1</td>\n",
       "      <td>أخرى</td>\n",
       "    </tr>\n",
       "    <tr>\n",
       "      <th>287</th>\n",
       "      <td>النقل والتخزين</td>\n",
       "      <td>25316</td>\n",
       "      <td>16530</td>\n",
       "      <td>منخفض</td>\n",
       "      <td>2019</td>\n",
       "      <td>4</td>\n",
       "      <td>لا</td>\n",
       "      <td>1</td>\n",
       "      <td>أخرى</td>\n",
       "    </tr>\n",
       "  </tbody>\n",
       "</table>\n",
       "<p>288 rows × 9 columns</p>\n",
       "</div>"
      ],
      "text/plain": [
       "                      النشاط الاقتصادي  متوسط الإيرادات (دينار)  \\\n",
       "0             التعدين واستغلال المحاجر                    32220   \n",
       "1                    الصناعة التحويلية                    45686   \n",
       "2                    الصناعة التحويلية                    12963   \n",
       "3                              التعليم                    42671   \n",
       "4    الأنشطة المهنية والعلمية والتقنية                    29713   \n",
       "..                                 ...                      ...   \n",
       "283                  الصناعة التحويلية                    45173   \n",
       "284                    البناء والتشييد                    45839   \n",
       "285      الأنشطة الإدارية وخدمات الدعم                    42867   \n",
       "286              الإقامة وخدمات الطعام                    19235   \n",
       "287                     النقل والتخزين                    25316   \n",
       "\n",
       "     عدد المنشآت الاقتصادية مستوى النشاط  السنة  الربع مدعومة حكوميًا؟  \\\n",
       "0                       665        منخفض   2017      4              لا   \n",
       "1                    108045        منخفض   2017      4              لا   \n",
       "2                    108045        منخفض   2017      4              لا   \n",
       "3                      9298        منخفض   2017      4              لا   \n",
       "4                     12643        منخفض   2017      4              لا   \n",
       "..                      ...          ...    ...    ...             ...   \n",
       "283                  109823        منخفض   2019      4              لا   \n",
       "284                   32698        منخفض   2019      4              لا   \n",
       "285                   22364        منخفض   2019      4              لا   \n",
       "286                  107383        منخفض   2019      4              لا   \n",
       "287                   16530        منخفض   2019      4              لا   \n",
       "\n",
       "     احتمال الإغلاق التصنيف العام  \n",
       "0                 1          أخرى  \n",
       "1                 1        صناعية  \n",
       "2                 1        صناعية  \n",
       "3                 1    خدمات عامة  \n",
       "4                 1          أخرى  \n",
       "..              ...           ...  \n",
       "283               1        صناعية  \n",
       "284               1          أخرى  \n",
       "285               1          أخرى  \n",
       "286               1          أخرى  \n",
       "287               1          أخرى  \n",
       "\n",
       "[288 rows x 9 columns]"
      ]
     },
     "execution_count": 22,
     "metadata": {},
     "output_type": "execute_result"
    }
   ],
   "source": [
    "# مثال ترميز يدوي\n",
    "def classify_sector(text):\n",
    "    if 'المالية' in text or 'التأمين' in text:\n",
    "        return 'مالية'\n",
    "    elif 'الصناعة' in text:\n",
    "        return 'صناعية'\n",
    "    elif 'الزراعة' in text or 'صيد' in text:\n",
    "        return 'زراعية'\n",
    "    elif 'التعليم' in text or 'الصحة' in text:\n",
    "        return 'خدمات عامة'\n",
    "    else:\n",
    "        return 'أخرى'\n",
    "\n",
    "df['التصنيف العام'] = df['النشاط الاقتصادي'].apply(classify_sector)\n",
    "df"
   ]
  },
  {
   "cell_type": "code",
   "execution_count": 23,
   "metadata": {},
   "outputs": [],
   "source": [
    "# إنشاء عمود جديد فارغ\n",
    "df['التصنيف العام'] = ''\n",
    "\n",
    "# التكرار عبر كل صف وتعبئة العمود الجديد بناءً على الشرط\n",
    "for i in range(len(df)):\n",
    "    text = df.loc[i, 'النشاط الاقتصادي']\n",
    "    \n",
    "    if 'المالية' in text or 'التأمين' in text:\n",
    "        df.loc[i, 'التصنيف العام'] = 'مالية'\n",
    "        \n",
    "    elif 'الصناعة' in text:\n",
    "        df.loc[i, 'التصنيف العام'] = 'صناعية'\n",
    "        \n",
    "    elif 'الزراعة' in text or 'صيد' in text:\n",
    "        df.loc[i, 'التصنيف العام'] = 'زراعية'\n",
    "        \n",
    "    elif 'التعليم' in text or 'الصحة' in text:\n",
    "        df.loc[i, 'التصنيف العام'] = 'خدمات عامة'\n",
    "        \n",
    "    else:\n",
    "        df.loc[i, 'التصنيف العام'] = 'أخرى'\n"
   ]
  },
  {
   "cell_type": "code",
   "execution_count": 27,
   "metadata": {},
   "outputs": [
    {
     "name": "stderr",
     "output_type": "stream",
     "text": [
      "[nltk_data] Downloading package stopwords to\n",
      "[nltk_data]     /Users/amjaadaltakhaineh/nltk_data...\n",
      "[nltk_data]   Package stopwords is already up-to-date!\n"
     ]
    },
    {
     "data": {
      "application/vnd.microsoft.datawrangler.viewer.v0+json": {
       "columns": [
        {
         "name": "index",
         "rawType": "int64",
         "type": "integer"
        },
        {
         "name": "النشاط الاقتصادي",
         "rawType": "object",
         "type": "string"
        },
        {
         "name": "متوسط الإيرادات (دينار)",
         "rawType": "int64",
         "type": "integer"
        },
        {
         "name": "عدد المنشآت الاقتصادية",
         "rawType": "int64",
         "type": "integer"
        },
        {
         "name": "مستوى النشاط",
         "rawType": "object",
         "type": "string"
        },
        {
         "name": "السنة",
         "rawType": "int64",
         "type": "integer"
        },
        {
         "name": "الربع",
         "rawType": "int64",
         "type": "integer"
        },
        {
         "name": "مدعومة حكوميًا؟",
         "rawType": "object",
         "type": "string"
        },
        {
         "name": "احتمال الإغلاق",
         "rawType": "int64",
         "type": "integer"
        },
        {
         "name": "التصنيف العام",
         "rawType": "object",
         "type": "string"
        },
        {
         "name": "النشاط_المنظف",
         "rawType": "object",
         "type": "string"
        }
       ],
       "conversionMethod": "pd.DataFrame",
       "ref": "86a414e9-95d1-4f38-a326-e35cceff2725",
       "rows": [
        [
         "0",
         "التعدين واستغلال المحاجر",
         "32220",
         "665",
         "منخفض",
         "2017",
         "4",
         "لا",
         "1",
         "أخرى",
         "التعدين استغلال المحاجر"
        ],
        [
         "1",
         "الصناعة التحويلية",
         "45686",
         "108045",
         "منخفض",
         "2017",
         "4",
         "لا",
         "1",
         "صناعية",
         "الصناعه التحويليه"
        ],
        [
         "2",
         "الصناعة التحويلية",
         "12963",
         "108045",
         "منخفض",
         "2017",
         "4",
         "لا",
         "1",
         "صناعية",
         "الصناعه التحويليه"
        ],
        [
         "3",
         "التعليم",
         "42671",
         "9298",
         "منخفض",
         "2017",
         "4",
         "لا",
         "1",
         "خدمات عامة",
         "التعليم"
        ],
        [
         "4",
         "الأنشطة المهنية والعلمية والتقنية",
         "29713",
         "12643",
         "منخفض",
         "2017",
         "4",
         "لا",
         "1",
         "أخرى",
         "الانشطه المهنيه العلميه التقنيه"
        ],
        [
         "5",
         "الأنشطة المهنية والعلمية والتقنية",
         "27312",
         "12643",
         "منخفض",
         "2017",
         "4",
         "لا",
         "1",
         "أخرى",
         "الانشطه المهنيه العلميه التقنيه"
        ],
        [
         "6",
         "التعدين واستغلال المحاجر",
         "26998",
         "665",
         "منخفض",
         "2017",
         "4",
         "نعم",
         "1",
         "أخرى",
         "التعدين استغلال المحاجر"
        ],
        [
         "7",
         "النقل والتخزين",
         "10200",
         "16631",
         "منخفض",
         "2017",
         "4",
         "لا",
         "1",
         "أخرى",
         "النقل التخزين"
        ],
        [
         "8",
         "النقل والتخزين",
         "43726",
         "16631",
         "منخفض",
         "2017",
         "4",
         "لا",
         "1",
         "أخرى",
         "النقل التخزين"
        ],
        [
         "9",
         "الأنشطة الإدارية وخدمات الدعم",
         "16401",
         "21346",
         "منخفض",
         "2017",
         "4",
         "نعم",
         "1",
         "أخرى",
         "الانشطه الاداريه خدمات الدعم"
        ],
        [
         "10",
         "الأنشطة المالية وأنشطة التأمين",
         "42733",
         "6589",
         "منخفض",
         "2017",
         "4",
         "لا",
         "1",
         "مالية",
         "الانشطه الماليه الانشطه التامين"
        ],
        [
         "11",
         "الأنشطة الإدارية وخدمات الدعم",
         "17691",
         "21346",
         "منخفض",
         "2017",
         "4",
         "لا",
         "1",
         "أخرى",
         "الانشطه الاداريه خدمات الدعم"
        ],
        [
         "12",
         "الإقامة وخدمات الطعام",
         "47439",
         "103214",
         "منخفض",
         "2017",
         "4",
         "لا",
         "1",
         "أخرى",
         "الاقامه خدمات الطعام"
        ],
        [
         "13",
         "البناء والتشييد",
         "15781",
         "33926",
         "منخفض",
         "2017",
         "4",
         "نعم",
         "1",
         "أخرى",
         "البناء التشييد"
        ],
        [
         "14",
         "البناء والتشييد",
         "15266",
         "33926",
         "منخفض",
         "2017",
         "4",
         "لا",
         "1",
         "أخرى",
         "البناء التشييد"
        ],
        [
         "15",
         "الأنشطة العقارية",
         "44537",
         "34603",
         "منخفض",
         "2017",
         "4",
         "لا",
         "1",
         "أخرى",
         "الانشطه العقاريه"
        ],
        [
         "16",
         "الأنشطة العقارية",
         "36852",
         "34603",
         "منخفض",
         "2017",
         "4",
         "لا",
         "1",
         "أخرى",
         "الانشطه العقاريه"
        ],
        [
         "17",
         "الزراعة والحراجة وصيد الأسماك",
         "31484",
         "89702",
         "منخفض",
         "2017",
         "4",
         "لا",
         "1",
         "زراعية",
         "الزراعه الحراجه صيد الاسماك"
        ],
        [
         "18",
         "الزراعة والحراجة وصيد الأسماك",
         "47946",
         "89702",
         "منخفض",
         "2017",
         "4",
         "نعم",
         "1",
         "زراعية",
         "الزراعه الحراجه صيد الاسماك"
        ],
        [
         "19",
         "أنشطة خدماتية أخرى",
         "13863",
         "78792",
         "منخفض",
         "2017",
         "4",
         "لا",
         "1",
         "أخرى",
         "الانشطه خدماتيه اخرى"
        ],
        [
         "20",
         "أنشطة خدماتية أخرى",
         "43981",
         "78792",
         "منخفض",
         "2017",
         "4",
         "لا",
         "1",
         "أخرى",
         "الانشطه خدماتيه اخرى"
        ],
        [
         "21",
         "الإقامة وخدمات الطعام",
         "46945",
         "103214",
         "منخفض",
         "2017",
         "4",
         "لا",
         "1",
         "أخرى",
         "الاقامه خدمات الطعام"
        ],
        [
         "22",
         "الأنشطة المالية وأنشطة التأمين",
         "24390",
         "6589",
         "منخفض",
         "2017",
         "4",
         "لا",
         "1",
         "مالية",
         "الانشطه الماليه الانشطه التامين"
        ],
        [
         "23",
         "التعليم",
         "27498",
         "9298",
         "منخفض",
         "2017",
         "4",
         "لا",
         "1",
         "خدمات عامة",
         "التعليم"
        ],
        [
         "24",
         "المعلومات والاتصالات",
         "12493",
         "5604",
         "منخفض",
         "2017",
         "4",
         "لا",
         "1",
         "أخرى",
         "المعلومات الاتصالات"
        ],
        [
         "25",
         "الفنون والترفيه والتسلية",
         "34863",
         "2400",
         "منخفض",
         "2017",
         "4",
         "لا",
         "1",
         "أخرى",
         "الفنون الترفيه التسليه"
        ],
        [
         "26",
         "إمدادات المياه والصرف الصحي وإدارة النفايات ومعالجتها",
         "22614",
         "2420",
         "منخفض",
         "2017",
         "4",
         "لا",
         "1",
         "أخرى",
         "امدادات المياه الصرف الصحي اداره النفايات معالجتها"
        ],
        [
         "27",
         "إمدادات المياه والصرف الصحي وإدارة النفايات ومعالجتها",
         "37852",
         "2420",
         "منخفض",
         "2017",
         "4",
         "لا",
         "1",
         "أخرى",
         "امدادات المياه الصرف الصحي اداره النفايات معالجتها"
        ],
        [
         "28",
         "الفنون والترفيه والتسلية",
         "18642",
         "2400",
         "منخفض",
         "2017",
         "4",
         "لا",
         "1",
         "أخرى",
         "الفنون الترفيه التسليه"
        ],
        [
         "29",
         "تجارة الجملة والتجزئة؛ إصلاح المركبات ذات المحركات والدراجات النارية",
         "122396",
         "471284",
         "عالٍ",
         "2017",
         "4",
         "نعم",
         "0",
         "أخرى",
         "تجاره الجمله التجزئه؛ اصلاح المركبات المحركات الدراجات الناريه"
        ],
        [
         "30",
         "إمدادات الكهرباء والغاز والبخار وتكييف الهواء",
         "30981",
         "779",
         "منخفض",
         "2017",
         "4",
         "نعم",
         "1",
         "أخرى",
         "امدادات الكهرباء الغاز البخار تكييف الهواء"
        ],
        [
         "31",
         "المعلومات والاتصالات",
         "29408",
         "5604",
         "منخفض",
         "2017",
         "4",
         "لا",
         "1",
         "أخرى",
         "المعلومات الاتصالات"
        ],
        [
         "32",
         "تجارة الجملة والتجزئة؛ إصلاح المركبات ذات المحركات والدراجات النارية",
         "171608",
         "471284",
         "عالٍ",
         "2017",
         "4",
         "نعم",
         "0",
         "أخرى",
         "تجاره الجمله التجزئه؛ اصلاح المركبات المحركات الدراجات الناريه"
        ],
        [
         "33",
         "الصحة والعمل الاجتماعي",
         "43870",
         "5804",
         "منخفض",
         "2017",
         "4",
         "لا",
         "1",
         "خدمات عامة",
         "الصحه العمل الاجتماعي"
        ],
        [
         "34",
         "الصحة والعمل الاجتماعي",
         "17736",
         "5804",
         "منخفض",
         "2017",
         "4",
         "لا",
         "1",
         "خدمات عامة",
         "الصحه العمل الاجتماعي"
        ],
        [
         "35",
         "إمدادات الكهرباء والغاز والبخار وتكييف الهواء",
         "18609",
         "779",
         "منخفض",
         "2017",
         "4",
         "نعم",
         "1",
         "أخرى",
         "امدادات الكهرباء الغاز البخار تكييف الهواء"
        ],
        [
         "36",
         "الأنشطة العقارية",
         "37677",
         "34762",
         "منخفض",
         "2018",
         "1",
         "لا",
         "1",
         "أخرى",
         "الانشطه العقاريه"
        ],
        [
         "37",
         "إمدادات الكهرباء والغاز والبخار وتكييف الهواء",
         "37666",
         "784",
         "منخفض",
         "2018",
         "1",
         "لا",
         "1",
         "أخرى",
         "امدادات الكهرباء الغاز البخار تكييف الهواء"
        ],
        [
         "38",
         "الأنشطة العقارية",
         "17531",
         "34762",
         "منخفض",
         "2018",
         "1",
         "لا",
         "1",
         "أخرى",
         "الانشطه العقاريه"
        ],
        [
         "39",
         "إمدادات الكهرباء والغاز والبخار وتكييف الهواء",
         "10679",
         "784",
         "منخفض",
         "2018",
         "1",
         "لا",
         "1",
         "أخرى",
         "امدادات الكهرباء الغاز البخار تكييف الهواء"
        ],
        [
         "40",
         "البناء والتشييد",
         "11990",
         "34117",
         "منخفض",
         "2018",
         "1",
         "لا",
         "1",
         "أخرى",
         "البناء التشييد"
        ],
        [
         "41",
         "البناء والتشييد",
         "19390",
         "34117",
         "منخفض",
         "2018",
         "1",
         "لا",
         "1",
         "أخرى",
         "البناء التشييد"
        ],
        [
         "42",
         "التعدين واستغلال المحاجر",
         "27433",
         "667",
         "منخفض",
         "2018",
         "1",
         "نعم",
         "1",
         "أخرى",
         "التعدين استغلال المحاجر"
        ],
        [
         "43",
         "التعدين واستغلال المحاجر",
         "49845",
         "667",
         "منخفض",
         "2018",
         "1",
         "لا",
         "1",
         "أخرى",
         "التعدين استغلال المحاجر"
        ],
        [
         "44",
         "الأنشطة الإدارية وخدمات الدعم",
         "11958",
         "21453",
         "منخفض",
         "2018",
         "1",
         "لا",
         "1",
         "أخرى",
         "الانشطه الاداريه خدمات الدعم"
        ],
        [
         "45",
         "الأنشطة الإدارية وخدمات الدعم",
         "10751",
         "21453",
         "منخفض",
         "2018",
         "1",
         "نعم",
         "1",
         "أخرى",
         "الانشطه الاداريه خدمات الدعم"
        ],
        [
         "46",
         "الصحة والعمل الاجتماعي",
         "18165",
         "5829",
         "منخفض",
         "2018",
         "1",
         "لا",
         "1",
         "خدمات عامة",
         "الصحه العمل الاجتماعي"
        ],
        [
         "47",
         "النقل والتخزين",
         "17250",
         "16692",
         "منخفض",
         "2018",
         "1",
         "لا",
         "1",
         "أخرى",
         "النقل التخزين"
        ],
        [
         "48",
         "الفنون والترفيه والتسلية",
         "24024",
         "2419",
         "منخفض",
         "2018",
         "1",
         "لا",
         "1",
         "أخرى",
         "الفنون الترفيه التسليه"
        ],
        [
         "49",
         "الصحة والعمل الاجتماعي",
         "30617",
         "5829",
         "منخفض",
         "2018",
         "1",
         "لا",
         "1",
         "خدمات عامة",
         "الصحه العمل الاجتماعي"
        ]
       ],
       "shape": {
        "columns": 10,
        "rows": 288
       }
      },
      "text/html": [
       "<div>\n",
       "<style scoped>\n",
       "    .dataframe tbody tr th:only-of-type {\n",
       "        vertical-align: middle;\n",
       "    }\n",
       "\n",
       "    .dataframe tbody tr th {\n",
       "        vertical-align: top;\n",
       "    }\n",
       "\n",
       "    .dataframe thead th {\n",
       "        text-align: right;\n",
       "    }\n",
       "</style>\n",
       "<table border=\"1\" class=\"dataframe\">\n",
       "  <thead>\n",
       "    <tr style=\"text-align: right;\">\n",
       "      <th></th>\n",
       "      <th>النشاط الاقتصادي</th>\n",
       "      <th>متوسط الإيرادات (دينار)</th>\n",
       "      <th>عدد المنشآت الاقتصادية</th>\n",
       "      <th>مستوى النشاط</th>\n",
       "      <th>السنة</th>\n",
       "      <th>الربع</th>\n",
       "      <th>مدعومة حكوميًا؟</th>\n",
       "      <th>احتمال الإغلاق</th>\n",
       "      <th>التصنيف العام</th>\n",
       "      <th>النشاط_المنظف</th>\n",
       "    </tr>\n",
       "  </thead>\n",
       "  <tbody>\n",
       "    <tr>\n",
       "      <th>0</th>\n",
       "      <td>التعدين واستغلال المحاجر</td>\n",
       "      <td>32220</td>\n",
       "      <td>665</td>\n",
       "      <td>منخفض</td>\n",
       "      <td>2017</td>\n",
       "      <td>4</td>\n",
       "      <td>لا</td>\n",
       "      <td>1</td>\n",
       "      <td>أخرى</td>\n",
       "      <td>التعدين استغلال المحاجر</td>\n",
       "    </tr>\n",
       "    <tr>\n",
       "      <th>1</th>\n",
       "      <td>الصناعة التحويلية</td>\n",
       "      <td>45686</td>\n",
       "      <td>108045</td>\n",
       "      <td>منخفض</td>\n",
       "      <td>2017</td>\n",
       "      <td>4</td>\n",
       "      <td>لا</td>\n",
       "      <td>1</td>\n",
       "      <td>صناعية</td>\n",
       "      <td>الصناعه التحويليه</td>\n",
       "    </tr>\n",
       "    <tr>\n",
       "      <th>2</th>\n",
       "      <td>الصناعة التحويلية</td>\n",
       "      <td>12963</td>\n",
       "      <td>108045</td>\n",
       "      <td>منخفض</td>\n",
       "      <td>2017</td>\n",
       "      <td>4</td>\n",
       "      <td>لا</td>\n",
       "      <td>1</td>\n",
       "      <td>صناعية</td>\n",
       "      <td>الصناعه التحويليه</td>\n",
       "    </tr>\n",
       "    <tr>\n",
       "      <th>3</th>\n",
       "      <td>التعليم</td>\n",
       "      <td>42671</td>\n",
       "      <td>9298</td>\n",
       "      <td>منخفض</td>\n",
       "      <td>2017</td>\n",
       "      <td>4</td>\n",
       "      <td>لا</td>\n",
       "      <td>1</td>\n",
       "      <td>خدمات عامة</td>\n",
       "      <td>التعليم</td>\n",
       "    </tr>\n",
       "    <tr>\n",
       "      <th>4</th>\n",
       "      <td>الأنشطة المهنية والعلمية والتقنية</td>\n",
       "      <td>29713</td>\n",
       "      <td>12643</td>\n",
       "      <td>منخفض</td>\n",
       "      <td>2017</td>\n",
       "      <td>4</td>\n",
       "      <td>لا</td>\n",
       "      <td>1</td>\n",
       "      <td>أخرى</td>\n",
       "      <td>الانشطه المهنيه العلميه التقنيه</td>\n",
       "    </tr>\n",
       "    <tr>\n",
       "      <th>...</th>\n",
       "      <td>...</td>\n",
       "      <td>...</td>\n",
       "      <td>...</td>\n",
       "      <td>...</td>\n",
       "      <td>...</td>\n",
       "      <td>...</td>\n",
       "      <td>...</td>\n",
       "      <td>...</td>\n",
       "      <td>...</td>\n",
       "      <td>...</td>\n",
       "    </tr>\n",
       "    <tr>\n",
       "      <th>283</th>\n",
       "      <td>الصناعة التحويلية</td>\n",
       "      <td>45173</td>\n",
       "      <td>109823</td>\n",
       "      <td>منخفض</td>\n",
       "      <td>2019</td>\n",
       "      <td>4</td>\n",
       "      <td>لا</td>\n",
       "      <td>1</td>\n",
       "      <td>صناعية</td>\n",
       "      <td>الصناعه التحويليه</td>\n",
       "    </tr>\n",
       "    <tr>\n",
       "      <th>284</th>\n",
       "      <td>البناء والتشييد</td>\n",
       "      <td>45839</td>\n",
       "      <td>32698</td>\n",
       "      <td>منخفض</td>\n",
       "      <td>2019</td>\n",
       "      <td>4</td>\n",
       "      <td>لا</td>\n",
       "      <td>1</td>\n",
       "      <td>أخرى</td>\n",
       "      <td>البناء التشييد</td>\n",
       "    </tr>\n",
       "    <tr>\n",
       "      <th>285</th>\n",
       "      <td>الأنشطة الإدارية وخدمات الدعم</td>\n",
       "      <td>42867</td>\n",
       "      <td>22364</td>\n",
       "      <td>منخفض</td>\n",
       "      <td>2019</td>\n",
       "      <td>4</td>\n",
       "      <td>لا</td>\n",
       "      <td>1</td>\n",
       "      <td>أخرى</td>\n",
       "      <td>الانشطه الاداريه خدمات الدعم</td>\n",
       "    </tr>\n",
       "    <tr>\n",
       "      <th>286</th>\n",
       "      <td>الإقامة وخدمات الطعام</td>\n",
       "      <td>19235</td>\n",
       "      <td>107383</td>\n",
       "      <td>منخفض</td>\n",
       "      <td>2019</td>\n",
       "      <td>4</td>\n",
       "      <td>لا</td>\n",
       "      <td>1</td>\n",
       "      <td>أخرى</td>\n",
       "      <td>الاقامه خدمات الطعام</td>\n",
       "    </tr>\n",
       "    <tr>\n",
       "      <th>287</th>\n",
       "      <td>النقل والتخزين</td>\n",
       "      <td>25316</td>\n",
       "      <td>16530</td>\n",
       "      <td>منخفض</td>\n",
       "      <td>2019</td>\n",
       "      <td>4</td>\n",
       "      <td>لا</td>\n",
       "      <td>1</td>\n",
       "      <td>أخرى</td>\n",
       "      <td>النقل التخزين</td>\n",
       "    </tr>\n",
       "  </tbody>\n",
       "</table>\n",
       "<p>288 rows × 10 columns</p>\n",
       "</div>"
      ],
      "text/plain": [
       "                      النشاط الاقتصادي  متوسط الإيرادات (دينار)  \\\n",
       "0             التعدين واستغلال المحاجر                    32220   \n",
       "1                    الصناعة التحويلية                    45686   \n",
       "2                    الصناعة التحويلية                    12963   \n",
       "3                              التعليم                    42671   \n",
       "4    الأنشطة المهنية والعلمية والتقنية                    29713   \n",
       "..                                 ...                      ...   \n",
       "283                  الصناعة التحويلية                    45173   \n",
       "284                    البناء والتشييد                    45839   \n",
       "285      الأنشطة الإدارية وخدمات الدعم                    42867   \n",
       "286              الإقامة وخدمات الطعام                    19235   \n",
       "287                     النقل والتخزين                    25316   \n",
       "\n",
       "     عدد المنشآت الاقتصادية مستوى النشاط  السنة  الربع مدعومة حكوميًا؟  \\\n",
       "0                       665        منخفض   2017      4              لا   \n",
       "1                    108045        منخفض   2017      4              لا   \n",
       "2                    108045        منخفض   2017      4              لا   \n",
       "3                      9298        منخفض   2017      4              لا   \n",
       "4                     12643        منخفض   2017      4              لا   \n",
       "..                      ...          ...    ...    ...             ...   \n",
       "283                  109823        منخفض   2019      4              لا   \n",
       "284                   32698        منخفض   2019      4              لا   \n",
       "285                   22364        منخفض   2019      4              لا   \n",
       "286                  107383        منخفض   2019      4              لا   \n",
       "287                   16530        منخفض   2019      4              لا   \n",
       "\n",
       "     احتمال الإغلاق التصنيف العام                    النشاط_المنظف  \n",
       "0                 1          أخرى          التعدين استغلال المحاجر  \n",
       "1                 1        صناعية                الصناعه التحويليه  \n",
       "2                 1        صناعية                الصناعه التحويليه  \n",
       "3                 1    خدمات عامة                          التعليم  \n",
       "4                 1          أخرى  الانشطه المهنيه العلميه التقنيه  \n",
       "..              ...           ...                              ...  \n",
       "283               1        صناعية                الصناعه التحويليه  \n",
       "284               1          أخرى                   البناء التشييد  \n",
       "285               1          أخرى     الانشطه الاداريه خدمات الدعم  \n",
       "286               1          أخرى             الاقامه خدمات الطعام  \n",
       "287               1          أخرى                    النقل التخزين  \n",
       "\n",
       "[288 rows x 10 columns]"
      ]
     },
     "execution_count": 27,
     "metadata": {},
     "output_type": "execute_result"
    }
   ],
   "source": [
    "import re\n",
    "import nltk\n",
    "from nltk.corpus import stopwords\n",
    "\n",
    "# تحميل كلمات التوقف العربية من NLTK\n",
    "nltk.download('stopwords')\n",
    "stop_words = set(stopwords.words(\"arabic\"))\n",
    "\n",
    "# أنماط لإزالة بعض الكلمات أو العبارات الشائعة غير المفيدة\n",
    "pattern_1 = r'(الأنشطة|أنشطة)'\n",
    "\n",
    "pattern_3 = r\"\\bو(?=\\w)\"  # حرف الواو في بداية الكلمة (غير مفيد)\n",
    "\n",
    "# قائمة جديدة لتخزين النصوص المنظفة\n",
    "processed_texts = []\n",
    "\n",
    "# تنظيف النصوص في العمود\n",
    "for i in range(len(df)):\n",
    "    text = df.loc[i, \"النشاط الاقتصادي\"]\n",
    "\n",
    "    # 1. إزالة بعض الأنماط المحددة\n",
    "    text = re.sub(pattern_1, \"الأنشطة\", text)\n",
    "\n",
    "\n",
    "\n",
    "\n",
    "    # 5. توحيد بعض الحروف\n",
    "    text = re.sub(r\"[إأآ]\", \"ا\", text)\n",
    "    text = re.sub(r\"[ة]\", \"ه\", text)\n",
    "\n",
    "    # 6. إزالة الواو من بداية الكلمة إذا لم تكن مهمة\n",
    "    text = re.sub(pattern_3, \"\", text)\n",
    "\n",
    "    # 7. إزالة الكلمات الشائعة (Stopwords)\n",
    "    filtered_words = []\n",
    "    for word in text.split():\n",
    "        if word not in stop_words:\n",
    "            filtered_words.append(word)\n",
    "\n",
    "    # 8. إعادة بناء النص المنظف\n",
    "    text = \" \".join(filtered_words)\n",
    "\n",
    "    # 9. تنظيف المسافات الزائدة\n",
    "    text = re.sub(r'\\s+', ' ', text).strip()\n",
    "\n",
    "    # إضافة النص المنظف للقائمة\n",
    "    processed_texts.append(text)\n",
    "\n",
    "# إضافة العمود الجديد إلى DataFrame\n",
    "df[\"النشاط_المنظف\"] = processed_texts\n",
    "df"
   ]
  },
  {
   "cell_type": "code",
   "execution_count": 28,
   "metadata": {},
   "outputs": [
    {
     "data": {
      "text/plain": [
       "[('الانشطه', 96),\n",
       " ('خدمات', 32),\n",
       " ('امدادات', 32),\n",
       " ('التعدين', 16),\n",
       " ('استغلال', 16),\n",
       " ('المحاجر', 16),\n",
       " ('الصناعه', 16),\n",
       " ('التحويليه', 16),\n",
       " ('التعليم', 16),\n",
       " ('المهنيه', 16)]"
      ]
     },
     "execution_count": 28,
     "metadata": {},
     "output_type": "execute_result"
    }
   ],
   "source": [
    "from collections import Counter\n",
    "words = ' '.join(df['النشاط_المنظف']).split()\n",
    "word_counts = Counter(words)\n",
    "word_counts.most_common(10)"
   ]
  }
 ],
 "metadata": {
  "kernelspec": {
   "display_name": "base",
   "language": "python",
   "name": "python3"
  },
  "language_info": {
   "codemirror_mode": {
    "name": "ipython",
    "version": 3
   },
   "file_extension": ".py",
   "mimetype": "text/x-python",
   "name": "python",
   "nbconvert_exporter": "python",
   "pygments_lexer": "ipython3",
   "version": "3.12.7"
  }
 },
 "nbformat": 4,
 "nbformat_minor": 2
}
